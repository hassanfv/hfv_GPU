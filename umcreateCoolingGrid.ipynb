{
  "nbformat": 4,
  "nbformat_minor": 0,
  "metadata": {
    "colab": {
      "provenance": [],
      "include_colab_link": true
    },
    "kernelspec": {
      "name": "python3",
      "display_name": "Python 3"
    },
    "language_info": {
      "name": "python"
    },
    "gpuClass": "premium",
    "accelerator": "GPU"
  },
  "cells": [
    {
      "cell_type": "markdown",
      "metadata": {
        "id": "view-in-github",
        "colab_type": "text"
      },
      "source": [
        "<a href=\"https://colab.research.google.com/github/hassanfv/hfv_GPU/blob/main/umcreateCoolingGrid.ipynb\" target=\"_parent\"><img src=\"https://colab.research.google.com/assets/colab-badge.svg\" alt=\"Open In Colab\"/></a>"
      ]
    },
    {
      "cell_type": "code",
      "execution_count": 4,
      "metadata": {
        "id": "Bbyq0LF_Txsz",
        "colab": {
          "base_uri": "https://localhost:8080/"
        },
        "outputId": "26c1588f-83c9-41d2-f984-84d15f16fe61"
      },
      "outputs": [
        {
          "output_type": "stream",
          "name": "stdout",
          "text": [
            "Overwriting umcreateCoolingGrid.cu\n"
          ]
        }
      ],
      "source": [
        "%%writefile umcreateCoolingGrid.cu\n",
        "\n",
        "#include <iostream>\n",
        "#include <cmath>\n",
        "#include <fstream>\n",
        "#include \"myPhotoLibsGPU.h\"\n",
        "\n",
        "using namespace std;\n",
        "\n",
        "\n",
        "__global__ void createCoolingGrid(float *rhoGrid, float *uGrid, float *res1,\n",
        "                                  float *res2, float *res3, float *res4,\n",
        "                                  float dt, float XH, int N_rho, int N_u)\n",
        "{\n",
        "  int i = threadIdx.x + blockIdx.x * blockDim.x;\n",
        "\n",
        "  if(i < N_rho)\n",
        "  {\n",
        "    float ux, delta_u;\n",
        "    int k = i * N_u;\n",
        "\n",
        "    for(int j = 0; j < N_u; j++)\n",
        "    {\n",
        "      ux = DoCooling(rhoGrid[i], uGrid[j], dt, XH);\n",
        "      delta_u = uGrid[j] - ux;\n",
        "\n",
        "      res1[k] = uGrid[j];\n",
        "      res2[k] = rhoGrid[i];\n",
        "      res3[k] = dt;\n",
        "      res4[k] = delta_u;\n",
        "\n",
        "      k++;\n",
        "    }\n",
        "  }\n",
        "}\n",
        "\n",
        "\n",
        "const float XH = 0.76;\n",
        "const float mH = 1.6726e-24; // gram\n",
        "const float dt  = 500.0f * 3600.0f * 24.0f * 365.24f; // 500 YEARS.\n",
        "\n",
        "const int N_rho = 100;\n",
        "const int N_u = 100;\n",
        "const int N = N_rho * N_u;\n",
        "\n",
        "int main(){\n",
        "\n",
        "  float Tmin = 1e4;\n",
        "  float Tmax = 1e6;\n",
        "\n",
        "  float stp_T = (log10(Tmax) - log10(Tmin)) / N_u;\n",
        "\n",
        "  float *Tgrid;\n",
        "\n",
        "  cudaMallocManaged(&Tgrid, N_u*sizeof(float));\n",
        "\n",
        "  for(int i = 0; i < N_u; i++)\n",
        "  {\n",
        "    Tgrid[i] = pow(10, (log10(Tmin) + i * stp_T));\n",
        "  }\n",
        "\n",
        "  //-------- Converting T to u.\n",
        "  /* This value is not very important. We just want to have a grid for u !! You could put nHcgs = 0.1, or 0.01, or ... !!! */\n",
        "  float nHcgs = 1.0; //  cm^-3\n",
        "\n",
        "  float *uGrid;\n",
        "\n",
        "  cudaMallocManaged(&uGrid, N_u*sizeof(float));\n",
        "\n",
        "  for(int i = 0; i < N_u; i++)\n",
        "  {\n",
        "    uGrid[i] = convert_Temp_to_u(Tgrid[i], nHcgs, XH);\n",
        "  }\n",
        "\n",
        "  cudaFree(Tgrid);\n",
        "  //-------- T to u conversion DONE !\n",
        "\n",
        "  float nH_min = 1e-4;\n",
        "  float nH_max = 1e3;\n",
        "  float rho_min = nH_min * mH;\n",
        "  float rho_max = nH_max * mH;\n",
        "\n",
        "  float stp_rho = (log10(rho_max) - log10(rho_min)) / N_rho;\n",
        "\n",
        "  float *rhoGrid;\n",
        "\n",
        "  cudaMallocManaged(&rhoGrid, N_rho*sizeof(float));\n",
        "\n",
        "  for(int i = 0; i < N_rho; i++)\n",
        "  {\n",
        "    rhoGrid[i] = pow(10, (log10(rho_min) + i * stp_rho));\n",
        "  }\n",
        "\n",
        "  //---- Declaring the res arrays.\n",
        "\n",
        "  float *res1, *res2, *res3, *res4;\n",
        "\n",
        "  cudaMallocManaged(&res1, N*sizeof(float));\n",
        "  cudaMallocManaged(&res2, N*sizeof(float));\n",
        "  cudaMallocManaged(&res3, N*sizeof(float));\n",
        "  cudaMallocManaged(&res4, N*sizeof(float));\n",
        "\n",
        "  for(int i = 0; i < N; i ++)\n",
        "  {\n",
        "    res1[i] = 0.0f;\n",
        "    res2[i] = 0.0f;\n",
        "    res3[i] = 0.0f;\n",
        "    res4[i] = 0.0f;\n",
        "  }\n",
        "\n",
        "  // ---- End of res arrays declaration.\n",
        "\n",
        "  int blockSize = 256; // number of threads in a block\n",
        "  int gridSize = (N_rho + blockSize - 1) / blockSize; // Number of blocks in a grid\n",
        "\n",
        "  createCoolingGrid<<<gridSize, blockSize>>>(rhoGrid, uGrid, res1, res2,\n",
        "                                             res3, res4, dt, XH,\n",
        "                                             N_rho, N_u);\n",
        "  cudaDeviceSynchronize();\n",
        "\n",
        "  ofstream outfile(\"CoolingGrid_UM.csv\");\n",
        "\n",
        "  outfile << \"u\" << \",\" << \"rho\" << \",\" << \"dt\" << \",\" << \"delta_u\" << endl; //header !\n",
        "\n",
        "  for(int i = 0; i < N; i++){\n",
        "    outfile << res1[i] << \",\" << res2[i] << \",\" << res3[i] << \",\" << res4[i] << endl;\n",
        "  }\n",
        "\n",
        "  cudaFree(uGrid); cudaFree(rhoGrid); cudaFree(res1);\n",
        "  cudaFree(res2); cudaFree(res3); cudaFree(res4);\n",
        "\n",
        "}"
      ]
    },
    {
      "cell_type": "code",
      "source": [
        "%%shell\n",
        "nvcc umcreateCoolingGrid.cu"
      ],
      "metadata": {
        "colab": {
          "base_uri": "https://localhost:8080/"
        },
        "id": "_IppQBBGBw-F",
        "outputId": "af29931e-0402-4c39-e747-f7386c00b278"
      },
      "execution_count": 5,
      "outputs": [
        {
          "output_type": "execute_result",
          "data": {
            "text/plain": []
          },
          "metadata": {},
          "execution_count": 5
        }
      ]
    },
    {
      "cell_type": "code",
      "source": [
        "%%shell\n",
        "./a.out"
      ],
      "metadata": {
        "colab": {
          "base_uri": "https://localhost:8080/"
        },
        "id": "ZB82xhb1skyY",
        "outputId": "52756ace-bfcc-4a69-d92d-07cecc992929"
      },
      "execution_count": 6,
      "outputs": [
        {
          "output_type": "execute_result",
          "data": {
            "text/plain": []
          },
          "metadata": {},
          "execution_count": 6
        }
      ]
    },
    {
      "cell_type": "code",
      "source": [],
      "metadata": {
        "id": "FKRVhEB2CbPL"
      },
      "execution_count": null,
      "outputs": []
    }
  ]
}