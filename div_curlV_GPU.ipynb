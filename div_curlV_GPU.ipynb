{
  "nbformat": 4,
  "nbformat_minor": 0,
  "metadata": {
    "colab": {
      "provenance": [],
      "authorship_tag": "ABX9TyPDj0OOaaN3T6AmHuRZ+g1D",
      "include_colab_link": true
    },
    "kernelspec": {
      "name": "python3",
      "display_name": "Python 3"
    },
    "language_info": {
      "name": "python"
    },
    "gpuClass": "standard",
    "accelerator": "GPU"
  },
  "cells": [
    {
      "cell_type": "markdown",
      "metadata": {
        "id": "view-in-github",
        "colab_type": "text"
      },
      "source": [
        "<a href=\"https://colab.research.google.com/github/hassanfv/hfv_GPU/blob/main/div_curlV_GPU.ipynb\" target=\"_parent\"><img src=\"https://colab.research.google.com/assets/colab-badge.svg\" alt=\"Open In Colab\"/></a>"
      ]
    },
    {
      "cell_type": "code",
      "execution_count": 1,
      "metadata": {
        "colab": {
          "base_uri": "https://localhost:8080/"
        },
        "id": "m6d2JhKoxItI",
        "outputId": "4cf660f1-881e-4181-e75e-08888cc0af46"
      },
      "outputs": [
        {
          "output_type": "stream",
          "name": "stdout",
          "text": [
            "Writing test.cu\n"
          ]
        }
      ],
      "source": [
        "%%writefile test.cu\n",
        "#include <iostream> // include iostream, fstream, cmath.\n",
        "#include <fstream>\n",
        "#include <cmath>\n",
        "#include <string>\n",
        "#include <vector>\n",
        "#include <sstream>\n",
        "using namespace std;\n",
        "\n",
        "const int N = 131504;\n",
        "const float my_pi = 3.141592f;\n",
        "//const float visc_alpha = 1.0f;\n",
        "\n",
        "__global__ void div_curlVel(float *divV, float *curlV, float *x, float *y, float *z, float *vx, float *vy, float *vz,\n",
        "                            float *rho, float *mass, float *h){\n",
        "  int i = threadIdx.x + blockIdx.x * blockDim.x;\n",
        "\n",
        "  if(i < N){\n",
        "\n",
        "    float dx, dy, dz, rr, hij, q, vxji, vyji, vzji, hij5, sig;\n",
        "    float nW = 0.0f; float gWx = 0.0f; float gWy = 0.0f; float gWz = 0.0f;\n",
        "    float vxij, vyij, vzij;\n",
        "    float ss = 0.0f; float curlVx = 0.0f; float curlVy = 0.0f; float curlVz = 0.0f;\n",
        "\n",
        "    for(int j = 0; j < N; j++){\n",
        "      dx = x[j] - x[i];\n",
        "      dy = y[j] - y[i];\n",
        "      dz = z[j] - z[i];\n",
        "\n",
        "      rr = sqrt(dx*dx + dy*dy + dz*dz);\n",
        "      hij = 0.5f * (h[i] + h[j]);\n",
        "      q =rr/hij;\n",
        "\n",
        "      if(q <= 2.0f){\n",
        "\n",
        "        nW = 0.0f; gWx = 0.0f; gWy = 0.0f; gWz = 0.0f;\n",
        "\n",
        "        sig = 1.0f/my_pi;\n",
        "        hij5 = hij*hij*hij*hij*hij;\n",
        "\n",
        "        if(q <= 1.0f){\n",
        "          nW = sig/hij5 * (-3.0f + (9.0f/4.0f) * q);\n",
        "          gWx = nW * dx;\n",
        "          gWy = nW * dy;\n",
        "          gWz = nW * dz;\n",
        "        }\n",
        "\n",
        "        if((q > 1.0f) && (q <=2.0f)){\n",
        "          nW = -3.0f*sig/(4.0f*hij5) * (2.0f - q)*(2.0f - q) / (q+1e-10);\n",
        "          gWx = nW * dx;\n",
        "          gWy = nW * dy;\n",
        "          gWz = nW * dz;\n",
        "        }\n",
        "\n",
        "        vxji = vx[j] - vx[i];\n",
        "        vyji = vy[j] - vy[i];\n",
        "        vzji = vz[j] - vz[i];\n",
        "\n",
        "        ss += mass[j]/rho[i] * (vxji*gWx + vyji*gWy + vzji*gWz);\n",
        "\n",
        "        vxij = vx[i] - vx[j]; //-vxji;\n",
        "        vyij = vy[i] - vy[j]; //-vyji;\n",
        "        vzij = vz[i] - vz[j]; //-vzji;\n",
        "\n",
        "        curlVx += mass[j]/rho[i] * (vyij*gWz - vzij*gWy);\n",
        "        curlVy += mass[j]/rho[i] * (vzij*gWx - vxij*gWz);\n",
        "        curlVz += mass[j]/rho[i] * (vxij*gWy - vyij*gWx);\n",
        "      }\n",
        "    }\n",
        "    divV[i] = abs(ss);\n",
        "    curlV[i] = sqrt(curlVx*curlVx + curlVy*curlVy + curlVz*curlVz);\n",
        "  }\n",
        "}\n",
        "\n",
        "int main(){\n",
        "\n",
        "  // Reading Hydra file.\n",
        "  string fname = \"Hydra_130k.csv\";\n",
        "\n",
        "  vector<vector<string>> content;\n",
        "  vector<string> row;\n",
        "  string line, word;\n",
        "  \n",
        "  fstream file (fname, ios::in);\n",
        "  if(file.is_open())\n",
        "  {\n",
        "  while(getline(file, line))\n",
        "  {\n",
        "  row.clear();\n",
        "  \n",
        "  stringstream str(line);\n",
        "  \n",
        "  while(getline(str, word, ','))\n",
        "  row.push_back(word);\n",
        "  content.push_back(row);\n",
        "  }\n",
        "  }\n",
        "  else\n",
        "  cout<<\"Could not open the file\\n\";\n",
        "\n",
        "  float *x,*y,*z, *vx,*vy,*vz, *rho, *P, *c, *h, *mass, *divV, *curlV;\n",
        "  float *d_x,*d_y,*d_z, *d_vx,*d_vy,*d_vz, *d_rho, *d_P, *d_c, *d_h, *d_mass, *d_divV, *d_curlV;\n",
        "\n",
        "  x = new float[N];\n",
        "  y = new float[N];\n",
        "  z = new float[N];\n",
        "\n",
        "  vx = new float[N];\n",
        "  vy = new float[N];\n",
        "  vz = new float[N];\n",
        "\n",
        "  rho = new float[N];\n",
        "  P = new float[N];\n",
        "  c = new float[N];\n",
        "  h = new float[N];\n",
        "  mass = new float[N];\n",
        "  divV = new float[N];\n",
        "  curlV = new float[N];\n",
        "\n",
        "  // 0  1  2  3   4   5    6   7  8  9  10\n",
        "  // x, y, z, vx, vy, vz, rho, P, c, h, m.\n",
        "\n",
        "  for(int i=0; i<N; i++){\n",
        "\n",
        "    x[i] = stof(content[i][0]);\n",
        "    y[i] = stof(content[i][1]);\n",
        "    z[i] = stof(content[i][2]);\n",
        "\n",
        "    vx[i] = stof(content[i][3]);\n",
        "    vy[i] = stof(content[i][4]);\n",
        "    vz[i] = stof(content[i][5]);\n",
        "\n",
        "    rho[i] = stof(content[i][6]);\n",
        "    P[i] = stof(content[i][7]);\n",
        "    c[i] = stof(content[i][8]);\n",
        "    h[i] = stof(content[i][9]);\n",
        "    mass[i] = stof(content[i][10]);\n",
        "\n",
        "    divV[i] = 110.0f;\n",
        "    curlV[i] = 110.0f;\n",
        "\n",
        "  }\n",
        "\n",
        "  cudaMalloc(&d_x, N*sizeof(float));\n",
        "  cudaMalloc(&d_y, N*sizeof(float));\n",
        "  cudaMalloc(&d_z, N*sizeof(float));\n",
        "\n",
        "  cudaMalloc(&d_vx, N*sizeof(float));\n",
        "  cudaMalloc(&d_vy, N*sizeof(float));\n",
        "  cudaMalloc(&d_vz, N*sizeof(float));\n",
        "\n",
        "  cudaMalloc(&d_rho, N*sizeof(float));\n",
        "  cudaMalloc(&d_P, N*sizeof(float));\n",
        "  cudaMalloc(&d_c, N*sizeof(float));\n",
        "  cudaMalloc(&d_h, N*sizeof(float));\n",
        "  cudaMalloc(&d_mass, N*sizeof(float));\n",
        "  cudaMalloc(&d_divV, N*sizeof(float));\n",
        "  cudaMalloc(&d_curlV, N*sizeof(float));\n",
        "\n",
        "  // Copy from Host to Device.\n",
        "  cudaMemcpy(d_x, x, N*sizeof(float), cudaMemcpyHostToDevice);\n",
        "  cudaMemcpy(d_y, y, N*sizeof(float), cudaMemcpyHostToDevice);\n",
        "  cudaMemcpy(d_z, z, N*sizeof(float), cudaMemcpyHostToDevice);\n",
        "\n",
        "  cudaMemcpy(d_vx, vx, N*sizeof(float), cudaMemcpyHostToDevice);\n",
        "  cudaMemcpy(d_vy, vy, N*sizeof(float), cudaMemcpyHostToDevice);\n",
        "  cudaMemcpy(d_vz, vz, N*sizeof(float), cudaMemcpyHostToDevice);\n",
        "\n",
        "  cudaMemcpy(d_rho, rho, N*sizeof(float), cudaMemcpyHostToDevice);\n",
        "  cudaMemcpy(d_P, P, N*sizeof(float), cudaMemcpyHostToDevice);\n",
        "  cudaMemcpy(d_c, c, N*sizeof(float), cudaMemcpyHostToDevice);\n",
        "  cudaMemcpy(d_h, h, N*sizeof(float), cudaMemcpyHostToDevice);\n",
        "  cudaMemcpy(d_mass, mass, N*sizeof(float), cudaMemcpyHostToDevice);\n",
        "  cudaMemcpy(d_divV, divV, N*sizeof(float), cudaMemcpyHostToDevice);\n",
        "  cudaMemcpy(d_curlV, curlV, N*sizeof(float), cudaMemcpyHostToDevice);\n",
        "\n",
        "\n",
        "  // Launching the kernel on GPU\n",
        "  int blockSize = 256; // number of threads in a block\n",
        "  int gridSize = (N + blockSize - 1) / blockSize; // Number of blocks in a grid\n",
        "\n",
        "  div_curlVel<<<gridSize, blockSize>>>(d_divV, d_curlV, d_x, d_y, d_z, d_vx, d_vy, d_vz,\n",
        "                                       d_rho, d_mass, d_h);\n",
        "\n",
        "  // Wait for the GPU to finish before accessing the Host\n",
        "  cudaDeviceSynchronize();\n",
        "\n",
        "  // Copy from Device to Host.\n",
        "  cudaMemcpy(divV, d_divV, N*sizeof(float), cudaMemcpyDeviceToHost);\n",
        "  cudaMemcpy(curlV, d_curlV, N*sizeof(float), cudaMemcpyDeviceToHost);\n",
        "\n",
        "\n",
        "  // Output to a file\n",
        "  ofstream outfile(\"div_curlV_from_cpp_130k.csv\");\n",
        "  if(outfile.is_open()){\n",
        "    for(int i = 0; i < N; i++){\n",
        "      outfile << divV[i] << \",\" << curlV[i] << endl;\n",
        "    }\n",
        "  }else cout << \"Unable to open file !\";\n",
        "\n",
        "\n",
        "  // visual check.\n",
        "  for(int i = 0; i < 10; i++){\n",
        "    cout << divV[i] << \" \" << curlV[i] << endl;\n",
        "    //cout << mass[i] << \" \" << vx[i] << \" \" << h[i] << endl;\n",
        "  }\n",
        "\n",
        "  // Free memory.\n",
        "  cudaFree(d_x);\n",
        "  cudaFree(d_y);\n",
        "  cudaFree(d_z);\n",
        "\n",
        "  cudaFree(d_vx);\n",
        "  cudaFree(d_vy);\n",
        "  cudaFree(d_vz);\n",
        "\n",
        "  cudaFree(d_rho);\n",
        "  cudaFree(d_P);\n",
        "  cudaFree(d_c);\n",
        "  cudaFree(d_h);\n",
        "  cudaFree(d_mass);\n",
        "  cudaFree(d_divV);\n",
        "  cudaFree(d_curlV);\n",
        "\n",
        "  delete[] x;\n",
        "  delete[] y;\n",
        "  delete[] z;\n",
        "\n",
        "  delete[] vx;\n",
        "  delete[] vy;\n",
        "  delete[] vz;\n",
        "\n",
        "  delete[] rho;\n",
        "  delete[] P;\n",
        "  delete[] c;\n",
        "  delete[] h;\n",
        "  delete[] mass;\n",
        "  delete[] divV;\n",
        "  delete[] curlV;\n",
        "\n",
        "}"
      ]
    },
    {
      "cell_type": "code",
      "source": [
        "%%shell\n",
        "nvcc test.cu -o test"
      ],
      "metadata": {
        "colab": {
          "base_uri": "https://localhost:8080/"
        },
        "id": "lPXXF6Qi31Tw",
        "outputId": "545f5c0a-e00a-4b1d-aa66-cbf61ce34157"
      },
      "execution_count": 2,
      "outputs": [
        {
          "output_type": "execute_result",
          "data": {
            "text/plain": []
          },
          "metadata": {},
          "execution_count": 2
        }
      ]
    },
    {
      "cell_type": "code",
      "source": [
        "%%shell\n",
        "./test"
      ],
      "metadata": {
        "colab": {
          "base_uri": "https://localhost:8080/"
        },
        "id": "PaCmNUyd35s4",
        "outputId": "2384aa6a-6d51-4c38-b16e-d2ff93948a71"
      },
      "execution_count": 3,
      "outputs": [
        {
          "output_type": "stream",
          "name": "stdout",
          "text": [
            "0.0960596 0.0724935\n",
            "0.531285 0.26442\n",
            "0.546801 0.191839\n",
            "0.675974 0.213807\n",
            "0.622348 0.363959\n",
            "0.365447 0.0924436\n",
            "0.537905 0.149043\n",
            "0.846763 0.0581866\n",
            "0.55048 0.110455\n",
            "0.117956 0.13458\n"
          ]
        },
        {
          "output_type": "execute_result",
          "data": {
            "text/plain": []
          },
          "metadata": {},
          "execution_count": 3
        }
      ]
    },
    {
      "cell_type": "code",
      "source": [
        "%%shell\n",
        "nvprof ./test"
      ],
      "metadata": {
        "colab": {
          "base_uri": "https://localhost:8080/"
        },
        "id": "OSyCkdYj47xA",
        "outputId": "628d3ee8-409a-4d8d-d1e6-029dab924094"
      },
      "execution_count": 4,
      "outputs": [
        {
          "output_type": "stream",
          "name": "stdout",
          "text": [
            "==195== NVPROF is profiling process 195, command: ./test\n",
            "0.0960596 0.0724935\n",
            "0.531285 0.26442\n",
            "0.546801 0.191839\n",
            "0.675974 0.213807\n",
            "0.622348 0.363959\n",
            "0.365447 0.0924436\n",
            "0.537905 0.149043\n",
            "0.846763 0.0581866\n",
            "0.55048 0.110455\n",
            "0.117956 0.13458\n",
            "==195== Profiling application: ./test\n",
            "==195== Profiling result:\n",
            "            Type  Time(%)      Time     Calls       Avg       Min       Max  Name\n",
            " GPU activities:   99.82%  381.24ms         1  381.24ms  381.24ms  381.24ms  div_curlVel(float*, float*, float*, float*, float*, float*, float*, float*, float*, float*, float*)\n",
            "                    0.15%  589.40us        13  45.338us  45.055us  45.663us  [CUDA memcpy HtoD]\n",
            "                    0.02%  83.263us         2  41.631us  41.600us  41.663us  [CUDA memcpy DtoH]\n",
            "      API calls:   53.60%  381.26ms         1  381.26ms  381.26ms  381.26ms  cudaDeviceSynchronize\n",
            "                   45.87%  326.28ms        13  25.098ms  2.7600us  325.86ms  cudaMalloc\n",
            "                    0.36%  2.5267ms        15  168.45us  136.00us  201.55us  cudaMemcpy\n",
            "                    0.07%  520.20us        13  40.015us  2.7050us  171.75us  cudaFree\n",
            "                    0.07%  465.89us         1  465.89us  465.89us  465.89us  cuDeviceTotalMem\n",
            "                    0.03%  181.64us       101  1.7980us     130ns  79.733us  cuDeviceGetAttribute\n",
            "                    0.01%  37.468us         1  37.468us  37.468us  37.468us  cudaLaunchKernel\n",
            "                    0.00%  35.339us         1  35.339us  35.339us  35.339us  cuDeviceGetName\n",
            "                    0.00%  5.8110us         1  5.8110us  5.8110us  5.8110us  cuDeviceGetPCIBusId\n",
            "                    0.00%  1.7770us         3     592ns     332ns  1.0600us  cuDeviceGetCount\n",
            "                    0.00%  1.4370us         2     718ns     246ns  1.1910us  cuDeviceGet\n",
            "                    0.00%     246ns         1     246ns     246ns     246ns  cuDeviceGetUuid\n"
          ]
        },
        {
          "output_type": "execute_result",
          "data": {
            "text/plain": []
          },
          "metadata": {},
          "execution_count": 4
        }
      ]
    },
    {
      "cell_type": "code",
      "source": [],
      "metadata": {
        "id": "BtCDQJWAbuis"
      },
      "execution_count": null,
      "outputs": []
    }
  ]
}