{
  "nbformat": 4,
  "nbformat_minor": 0,
  "metadata": {
    "colab": {
      "provenance": [],
      "authorship_tag": "ABX9TyPAJGANCeAxRyrdP5KO4LmY",
      "include_colab_link": true
    },
    "kernelspec": {
      "name": "python3",
      "display_name": "Python 3"
    },
    "language_info": {
      "name": "python"
    },
    "accelerator": "GPU",
    "gpuClass": "standard"
  },
  "cells": [
    {
      "cell_type": "markdown",
      "metadata": {
        "id": "view-in-github",
        "colab_type": "text"
      },
      "source": [
        "<a href=\"https://colab.research.google.com/github/hassanfv/hfv_GPU/blob/main/acc_g_in_gpu_v1.ipynb\" target=\"_parent\"><img src=\"https://colab.research.google.com/assets/colab-badge.svg\" alt=\"Open In Colab\"/></a>"
      ]
    },
    {
      "cell_type": "code",
      "source": [
        "%%writefile test.cu\n",
        "#include <iostream>\n",
        "#include <fstream>\n",
        "using namespace std;\n",
        "\n",
        "const int N = 70000;\n",
        "const float G = 1.0f;\n",
        "const float mSPH = 1.0f / (N/2);\n",
        "\n",
        "\n",
        "__global__ void acc_g(float *x, float *y, float *z, float *eps, float *accx, float *accy, float *accz, float *mass){\n",
        "  int i = threadIdx.x + blockIdx.x * blockDim.x;\n",
        "\n",
        "  if(i < N){\n",
        "\n",
        "    float dx, dy, dz, rr, inv_r3, epsij, q, q2, q3, q4, q5, q6, fk;\n",
        "    for(int j = i+1; j < N; j++){\n",
        "      dx = x[j] - x[i];\n",
        "      dy = y[j] - y[i];\n",
        "      dz = z[j] - z[i];\n",
        "\n",
        "      rr = sqrt(dx*dx + dy*dy + dz*dz);\n",
        "      inv_r3 = 1.0f / (rr*rr*rr);\n",
        "      epsij = 0.5 * (eps[i] + eps[j]);\n",
        "      q = rr/epsij;\n",
        "      q2 = q*q;\n",
        "      q3 = q2 * q;\n",
        "      q4 = q3 * q;\n",
        "      q5 = q4 * q;\n",
        "      q6 = q5 * q;\n",
        "\n",
        "      if(q <= 1.0f){\n",
        "        fk = (1.0f/(epsij*epsij*epsij)) * ((4.0f/3.0f) - (6.0f/5.0f)*q2 + (1.0f/2.0f)*q3);\n",
        "      }\n",
        "\n",
        "      if((q > 1.0f) && (q <= 2.0f)){\n",
        "        fk = inv_r3 * ((-1.0f/15.0f) + (8.0f/3.0)*q3 - 3.0f*q4 + (6.0f/5.0f)*q5 - (1.0f/6.0f)*q6);\n",
        "      }\n",
        "\n",
        "      if(q > 2.0f){\n",
        "        fk = inv_r3;\n",
        "      }\n",
        "\n",
        "      accx[i] += G * fk * dx * mass[j];\n",
        "      accx[j] -= G * fk * dx * mass[i];\n",
        "\n",
        "      accy[i] += G * fk * dy * mass[j];\n",
        "      accy[j] -= G * fk * dy * mass[i];\n",
        "\n",
        "      accz[i] += G * fk * dz * mass[j];\n",
        "      accz[j] -= G * fk * dz * mass[i];\n",
        "    }\n",
        "  }\n",
        "\n",
        "}\n",
        "\n",
        "\n",
        "\n",
        "int main(){\n",
        "\n",
        "  // Reading the file containing x, y, z, and h.\n",
        "  ifstream infile(\"data.csv\");\n",
        "  float xt, yt, zt, ht;\n",
        "  \n",
        "  float **data = new float*[N];\n",
        "  for(int i = 0; i < N; i++){\n",
        "    data[i] = new float[4];\n",
        "  }\n",
        "\n",
        "  for(int i = 0; i < N; i++){\n",
        "    data[i][0] = 0.0f;\n",
        "    data[i][1] = 0.0f;\n",
        "    data[i][2] = 0.0f;\n",
        "    data[i][3] = 0.0f;\n",
        "  }\n",
        "\n",
        "  if(infile.is_open()){\n",
        "    for(int i = 0; i < N; i++){\n",
        "      infile >> xt >> yt >> zt >> ht;\n",
        "      data[i][0] = xt;\n",
        "      data[i][1] = yt;\n",
        "      data[i][2] = zt;\n",
        "      data[i][3] = ht;\n",
        "    }\n",
        "  }\n",
        "\n",
        "\n",
        "  // creating x, y, z arrays in Shared Memorty containing random values between 0 and 1.0\n",
        "  float *x, *d_x, *y, *d_y, *z, *d_z, *eps, *d_eps, *accx, *accy, *accz, *d_accx, *d_accy, *d_accz, *mass, *d_mass;\n",
        "  x = new float[N];\n",
        "  y = new float[N];\n",
        "  z = new float[N];\n",
        "\n",
        "  accx = new float[N];\n",
        "  accy = new float[N];\n",
        "  accz = new float[N];\n",
        "\n",
        "  eps = new float[N];\n",
        "  mass = new float[N];\n",
        "\n",
        "  cudaMalloc(&d_x, N*sizeof(float));\n",
        "  cudaMalloc(&d_y, N*sizeof(float));\n",
        "  cudaMalloc(&d_z, N*sizeof(float));\n",
        "\n",
        "  cudaMalloc(&d_accx, N*sizeof(float));\n",
        "  cudaMalloc(&d_accy, N*sizeof(float));\n",
        "  cudaMalloc(&d_accz, N*sizeof(float));\n",
        "\n",
        "  cudaMalloc(&d_eps, N*sizeof(float));\n",
        "  cudaMalloc(&d_mass, N*sizeof(float));\n",
        "\n",
        "  // Initialize x, y, and z on the Host.\n",
        "  for(int i = 0; i < N; i++){\n",
        "    x[i] = data[i][0];\n",
        "    y[i] = data[i][1];\n",
        "    z[i] = data[i][2];\n",
        "\n",
        "    accx[i] = 0.0f;\n",
        "    accy[i] = 0.0f;\n",
        "    accz[i] = 0.0f;\n",
        "\n",
        "    eps[i] = 0.0001f;\n",
        "    mass[i] = mSPH;\n",
        "  }\n",
        "\n",
        "  // Copy from Host to Device.\n",
        "  cudaMemcpy(d_x, x, N*sizeof(float), cudaMemcpyHostToDevice);\n",
        "  cudaMemcpy(d_y, y, N*sizeof(float), cudaMemcpyHostToDevice);\n",
        "  cudaMemcpy(d_z, z, N*sizeof(float), cudaMemcpyHostToDevice);\n",
        "\n",
        "  cudaMemcpy(d_accx, accx, N*sizeof(float), cudaMemcpyHostToDevice);\n",
        "  cudaMemcpy(d_accy, accy, N*sizeof(float), cudaMemcpyHostToDevice);\n",
        "  cudaMemcpy(d_accz, accz, N*sizeof(float), cudaMemcpyHostToDevice);\n",
        "\n",
        "  cudaMemcpy(d_eps, eps, N*sizeof(float), cudaMemcpyHostToDevice);\n",
        "  cudaMemcpy(d_mass, mass, N*sizeof(float), cudaMemcpyHostToDevice);\n",
        "\n",
        "\n",
        "  // Launching the kernel on GPU\n",
        "  int blockSize = 256; // number of threads in a block\n",
        "  int gridSize = (N + blockSize - 1) / blockSize; // Number of blocks in a grid\n",
        "\n",
        "  acc_g<<<gridSize, blockSize>>>(d_x, d_y, d_z, d_eps, d_accx, d_accy, d_accz, d_mass);\n",
        "\n",
        "  // Wait for the GPU to finish before accessing the Host\n",
        "  cudaDeviceSynchronize();\n",
        "\n",
        "  // Copy from Device to Host.\n",
        "  cudaMemcpy(accx, d_accx, N*sizeof(float), cudaMemcpyDeviceToHost);\n",
        "  cudaMemcpy(accy, d_accy, N*sizeof(float), cudaMemcpyDeviceToHost);\n",
        "  cudaMemcpy(accz, d_accz, N*sizeof(float), cudaMemcpyDeviceToHost);\n",
        "\n",
        "  // visual inspection\n",
        "  for(int i = 0; i < 10; i++){\n",
        "    //cout << data[i][0] << ' ' << data[i][1] << ' ' << data[i][2] << endl;\n",
        "    cout << accx[i] << ' ' << accy[i] << ' ' << accz[i] << endl;\n",
        "  }\n",
        "\n",
        "  // Free memory\n",
        "  cudaFree(d_x);\n",
        "  cudaFree(d_y);\n",
        "  cudaFree(d_z);\n",
        "\n",
        "  cudaFree(d_accx);\n",
        "  cudaFree(d_accy);\n",
        "  cudaFree(d_accz);\n",
        "\n",
        "  cudaFree(d_eps);\n",
        "  cudaFree(d_mass);\n",
        "\n",
        "  delete[] data;\n",
        "  delete[] x;\n",
        "  delete[] y;\n",
        "  delete[] z;\n",
        "\n",
        "  delete[] accx;\n",
        "  delete[] accy;\n",
        "  delete[] accz;\n",
        "\n",
        "  delete[] eps;\n",
        "  delete[] mass;\n",
        "\n",
        "}"
      ],
      "metadata": {
        "colab": {
          "base_uri": "https://localhost:8080/"
        },
        "id": "G9DGOe6Orb_r",
        "outputId": "f47b7eee-6cd5-457b-808b-cdf684c39cbf"
      },
      "execution_count": null,
      "outputs": [
        {
          "output_type": "stream",
          "name": "stdout",
          "text": [
            "Writing test.cu\n"
          ]
        }
      ]
    },
    {
      "cell_type": "code",
      "source": [
        "%%shell\n",
        "nvcc test.cu -o test"
      ],
      "metadata": {
        "colab": {
          "base_uri": "https://localhost:8080/"
        },
        "id": "zGSbGSZAS5J2",
        "outputId": "037f3f12-5ac9-4e5f-afd9-d6884fdcc683"
      },
      "execution_count": null,
      "outputs": [
        {
          "output_type": "execute_result",
          "data": {
            "text/plain": []
          },
          "metadata": {},
          "execution_count": 2
        }
      ]
    },
    {
      "cell_type": "code",
      "source": [
        "%%shell\n",
        "./test"
      ],
      "metadata": {
        "colab": {
          "base_uri": "https://localhost:8080/"
        },
        "id": "JoY7F4GhS-ZM",
        "outputId": "282aeff2-79ca-4b53-af8a-13eb54fa57d5"
      },
      "execution_count": null,
      "outputs": [
        {
          "output_type": "stream",
          "name": "stdout",
          "text": [
            "0 0 0\n",
            "0 0 0\n",
            "0 0 0\n",
            "0 0 0\n",
            "0 0 0\n",
            "0 0 0\n",
            "0 0 0\n",
            "0 0 0\n",
            "0 0 0\n",
            "0 0 0\n"
          ]
        },
        {
          "output_type": "execute_result",
          "data": {
            "text/plain": []
          },
          "metadata": {},
          "execution_count": 3
        }
      ]
    },
    {
      "cell_type": "code",
      "source": [
        "%%shell\n",
        "nvprof ./test"
      ],
      "metadata": {
        "colab": {
          "base_uri": "https://localhost:8080/"
        },
        "id": "i15crhSFT3jI",
        "outputId": "87edb997-abe2-40ac-b273-b7c37f778b5f"
      },
      "execution_count": null,
      "outputs": [
        {
          "output_type": "stream",
          "name": "stdout",
          "text": [
            "==1408== NVPROF is profiling process 1408, command: ./test\n",
            "-0.157969 -0.119226 -0.263752\n",
            "-0.0574297 -0.177805 -0.434277\n",
            "-0.323576 -0.256579 0.262055\n",
            "-0.513264 -0.0620812 0.174257\n",
            "-0.0717222 0.155336 -0.206455\n",
            "0.394281 -0.864117 0.505333\n",
            "0.0379043 0.257902 -0.358868\n",
            "0.0958894 0.132273 -0.315664\n",
            "-0.167938 -0.297167 0.387026\n",
            "0.0655148 -0.349785 -0.175275\n",
            "==1408== Profiling application: ./test\n",
            "==1408== Profiling result:\n",
            "            Type  Time(%)      Time     Calls       Avg       Min       Max  Name\n",
            " GPU activities:   99.89%  253.32ms         1  253.32ms  253.32ms  253.32ms  acc_g(float*, float*, float*, float*, float*, float*, float*, float*)\n",
            "                    0.08%  204.54us         8  25.567us  25.248us  26.335us  [CUDA memcpy HtoD]\n",
            "                    0.03%  68.383us         3  22.794us  22.367us  23.040us  [CUDA memcpy DtoH]\n",
            "      API calls:   55.34%  316.38ms         8  39.548ms  2.1820us  316.25ms  cudaMalloc\n",
            "                   44.31%  253.34ms         1  253.34ms  253.34ms  253.34ms  cudaDeviceSynchronize\n",
            "                    0.18%  1.0551ms        11  95.914us  87.635us  139.42us  cudaMemcpy\n",
            "                    0.07%  386.60us         1  386.60us  386.60us  386.60us  cuDeviceTotalMem\n",
            "                    0.05%  290.95us         8  36.368us  2.0670us  151.65us  cudaFree\n",
            "                    0.03%  167.11us       101  1.6540us     129ns  69.344us  cuDeviceGetAttribute\n",
            "                    0.01%  31.237us         1  31.237us  31.237us  31.237us  cuDeviceGetName\n",
            "                    0.01%  28.703us         1  28.703us  28.703us  28.703us  cudaLaunchKernel\n",
            "                    0.00%  6.9700us         1  6.9700us  6.9700us  6.9700us  cuDeviceGetPCIBusId\n",
            "                    0.00%  1.2130us         3     404ns     149ns     779ns  cuDeviceGetCount\n",
            "                    0.00%  1.1040us         2     552ns     201ns     903ns  cuDeviceGet\n",
            "                    0.00%     267ns         1     267ns     267ns     267ns  cuDeviceGetUuid\n"
          ]
        },
        {
          "output_type": "execute_result",
          "data": {
            "text/plain": []
          },
          "metadata": {},
          "execution_count": 61
        }
      ]
    },
    {
      "cell_type": "code",
      "source": [],
      "metadata": {
        "id": "9tKtkhOqT_Cg"
      },
      "execution_count": null,
      "outputs": []
    }
  ]
}