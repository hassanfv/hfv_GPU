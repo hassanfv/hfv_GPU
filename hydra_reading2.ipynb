{
  "nbformat": 4,
  "nbformat_minor": 0,
  "metadata": {
    "colab": {
      "provenance": [],
      "authorship_tag": "ABX9TyPYT4d0UOlnwmV2d+852SJ2",
      "include_colab_link": true
    },
    "kernelspec": {
      "name": "python3",
      "display_name": "Python 3"
    },
    "language_info": {
      "name": "python"
    },
    "gpuClass": "standard"
  },
  "cells": [
    {
      "cell_type": "markdown",
      "metadata": {
        "id": "view-in-github",
        "colab_type": "text"
      },
      "source": [
        "<a href=\"https://colab.research.google.com/github/hassanfv/hfv_GPU/blob/main/hydra_reading2.ipynb\" target=\"_parent\"><img src=\"https://colab.research.google.com/assets/colab-badge.svg\" alt=\"Open In Colab\"/></a>"
      ]
    },
    {
      "cell_type": "code",
      "execution_count": 13,
      "metadata": {
        "colab": {
          "base_uri": "https://localhost:8080/"
        },
        "id": "m6d2JhKoxItI",
        "outputId": "e5b38317-f7d9-444b-b5af-d07ce37f2f27"
      },
      "outputs": [
        {
          "output_type": "stream",
          "name": "stdout",
          "text": [
            "Overwriting test.cu\n"
          ]
        }
      ],
      "source": [
        "%%writefile test.cu\n",
        "#include <iostream>\n",
        "#include <fstream>\n",
        "using namespace std;\n",
        "\n",
        "const int N = 10000;\n",
        "//const float visc_alpha = 1.0f;\n",
        "\n",
        "int main(){\n",
        "\n",
        "  // Reading Hydra file.\n",
        "  ifstream infile (\"Hydra.txt\");\n",
        "  float xt,yt,zt, vxt,vyt,vzt, rhot, Pt, ct, ht, masst, divVt, curlVt;\n",
        "\n",
        "  float *x,*y,*z, *vx,*vy,*vz, *rho, *P, *c, *h, *mass, *divV, *curlV;\n",
        "  float *d_x,*d_y,*d_z, *d_vx,*d_vy,*d_vz, *d_rho, *d_P, *d_c, *d_h, *d_mass, *d_divV, *d_curlV;\n",
        "\n",
        "  x = new float[N];\n",
        "  y = new float[N];\n",
        "  z = new float[N];\n",
        "\n",
        "  vx = new float[N];\n",
        "  vy = new float[N];\n",
        "  vz = new float[N];\n",
        "\n",
        "  rho = new float[N];\n",
        "  P = new float[N];\n",
        "  c = new float[N];\n",
        "  h = new float[N];\n",
        "  mass = new float[N];\n",
        "  divV = new float[N];\n",
        "  curlV = new float[N];\n",
        "\n",
        "  if(infile.is_open()){\n",
        "    for(int i = 0; i < N; i++){\n",
        "      infile >>xt>>yt>>zt >>vxt>>vyt>>vzt >> rhot>>Pt>>ct>>ht>>masst>>divVt>>curlVt;\n",
        "        x[i] = xt; y[i] = yt; z[i] = zt; vx[i] = vxt; vy[i] = vyt; vz[i] = vzt;\n",
        "        rho[i] = rhot; P[i] = Pt; c[i] = ct; h[i] = ht; mass[i] = masst;\n",
        "        divV[i] = divVt; curlV[i] = curlVt;\n",
        "    }\n",
        "  }else cout << \"Unable to open file !!\";\n",
        "\n",
        "  cudaMalloc(&d_x, N*sizeof(float));\n",
        "  cudaMalloc(&d_y, N*sizeof(float));\n",
        "  cudaMalloc(&d_z, N*sizeof(float));\n",
        "\n",
        "  cudaMalloc(&d_vx, N*sizeof(float));\n",
        "  cudaMalloc(&d_vy, N*sizeof(float));\n",
        "  cudaMalloc(&d_vz, N*sizeof(float));\n",
        "\n",
        "  cudaMalloc(&d_rho, N*sizeof(float));\n",
        "  cudaMalloc(&d_P, N*sizeof(float));\n",
        "  cudaMalloc(&d_c, N*sizeof(float));\n",
        "  cudaMalloc(&d_h, N*sizeof(float));\n",
        "  cudaMalloc(&d_mass, N*sizeof(float));\n",
        "  cudaMalloc(&d_divV, N*sizeof(float));\n",
        "  cudaMalloc(&d_curlV, N*sizeof(float));\n",
        "\n",
        "  // Copy from Host to Device.\n",
        "  cudaMemcpy(d_x, x, N*sizeof(float), cudaMemcpyHostToDevice);\n",
        "  cudaMemcpy(d_y, y, N*sizeof(float), cudaMemcpyHostToDevice);\n",
        "  cudaMemcpy(d_z, z, N*sizeof(float), cudaMemcpyHostToDevice);\n",
        "\n",
        "  cudaMemcpy(d_vx, vx, N*sizeof(float), cudaMemcpyHostToDevice);\n",
        "  cudaMemcpy(d_vy, vy, N*sizeof(float), cudaMemcpyHostToDevice);\n",
        "  cudaMemcpy(d_vz, vz, N*sizeof(float), cudaMemcpyHostToDevice);\n",
        "\n",
        "  cudaMemcpy(d_rho, rho, N*sizeof(float), cudaMemcpyHostToDevice);\n",
        "  cudaMemcpy(d_P, P, N*sizeof(float), cudaMemcpyHostToDevice);\n",
        "  cudaMemcpy(d_c, c, N*sizeof(float), cudaMemcpyHostToDevice);\n",
        "  cudaMemcpy(d_h, h, N*sizeof(float), cudaMemcpyHostToDevice);\n",
        "  cudaMemcpy(d_mass, mass, N*sizeof(float), cudaMemcpyHostToDevice);\n",
        "  cudaMemcpy(d_divV, divV, N*sizeof(float), cudaMemcpyHostToDevice);\n",
        "  cudaMemcpy(d_curlV, curlV, N*sizeof(float), cudaMemcpyHostToDevice);\n",
        "\n",
        "\n",
        "  // visual check.\n",
        "  for(int i = 0; i < 10; i++){\n",
        "    cout << mass[i] << endl;\n",
        "  }\n",
        "\n",
        "  // Free memory.\n",
        "  cudaFree(d_x);\n",
        "  cudaFree(d_y);\n",
        "  cudaFree(d_z);\n",
        "\n",
        "  cudaFree(d_vx);\n",
        "  cudaFree(d_vy);\n",
        "  cudaFree(d_vz);\n",
        "\n",
        "  cudaFree(d_rho);\n",
        "  cudaFree(d_P);\n",
        "  cudaFree(d_c);\n",
        "  cudaFree(d_h);\n",
        "  cudaFree(d_mass);\n",
        "  cudaFree(d_divV);\n",
        "  cudaFree(d_curlV);\n",
        "\n",
        "  delete[] x;\n",
        "  delete[] y;\n",
        "  delete[] z;\n",
        "\n",
        "  delete[] vx;\n",
        "  delete[] vy;\n",
        "  delete[] vz;\n",
        "\n",
        "  delete[] rho;\n",
        "  delete[] P;\n",
        "  delete[] c;\n",
        "  delete[] h;\n",
        "  delete[] mass;\n",
        "  delete[] divV;\n",
        "  delete[] curlV;\n",
        "\n",
        "}"
      ]
    },
    {
      "cell_type": "code",
      "source": [
        "%%shell\n",
        "nvcc test.cu -o test"
      ],
      "metadata": {
        "colab": {
          "base_uri": "https://localhost:8080/"
        },
        "id": "lPXXF6Qi31Tw",
        "outputId": "1b451187-a697-4499-d676-24baa30786b6"
      },
      "execution_count": 14,
      "outputs": [
        {
          "output_type": "execute_result",
          "data": {
            "text/plain": []
          },
          "metadata": {},
          "execution_count": 14
        }
      ]
    },
    {
      "cell_type": "code",
      "source": [
        "%%shell\n",
        "./test"
      ],
      "metadata": {
        "colab": {
          "base_uri": "https://localhost:8080/"
        },
        "id": "PaCmNUyd35s4",
        "outputId": "6e1b293d-baa7-464f-d6a1-5dc88889d70e"
      },
      "execution_count": 15,
      "outputs": [
        {
          "output_type": "stream",
          "name": "stdout",
          "text": [
            "1.52087e-05\n",
            "1.52087e-05\n",
            "1.52087e-05\n",
            "1.52087e-05\n",
            "1.52087e-05\n",
            "1.52087e-05\n",
            "1.52087e-05\n",
            "1.52087e-05\n",
            "1.52087e-05\n",
            "1.52087e-05\n"
          ]
        },
        {
          "output_type": "execute_result",
          "data": {
            "text/plain": []
          },
          "metadata": {},
          "execution_count": 15
        }
      ]
    },
    {
      "cell_type": "code",
      "source": [],
      "metadata": {
        "id": "OSyCkdYj47xA"
      },
      "execution_count": null,
      "outputs": []
    }
  ]
}