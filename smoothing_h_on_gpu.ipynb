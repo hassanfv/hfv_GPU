{
  "nbformat": 4,
  "nbformat_minor": 0,
  "metadata": {
    "colab": {
      "provenance": [],
      "authorship_tag": "ABX9TyNd8ayMOZfq6YsuazdNw20K",
      "include_colab_link": true
    },
    "kernelspec": {
      "name": "python3",
      "display_name": "Python 3"
    },
    "language_info": {
      "name": "python"
    },
    "gpuClass": "standard",
    "accelerator": "GPU"
  },
  "cells": [
    {
      "cell_type": "markdown",
      "metadata": {
        "id": "view-in-github",
        "colab_type": "text"
      },
      "source": [
        "<a href=\"https://colab.research.google.com/github/hassanfv/hfv_GPU/blob/main/smoothing_h_on_gpu.ipynb\" target=\"_parent\"><img src=\"https://colab.research.google.com/assets/colab-badge.svg\" alt=\"Open In Colab\"/></a>"
      ]
    },
    {
      "cell_type": "code",
      "execution_count": 284,
      "metadata": {
        "colab": {
          "base_uri": "https://localhost:8080/"
        },
        "id": "7FA-O1gIGxYL",
        "outputId": "afdd72be-54e6-4f2d-99cb-681bdb3a705d"
      },
      "outputs": [
        {
          "output_type": "stream",
          "name": "stdout",
          "text": [
            "Overwriting testx.cu\n"
          ]
        }
      ],
      "source": [
        "%%writefile testx.cu\n",
        "#include <iostream>\n",
        "#include <ctime>\n",
        "#include <fstream>\n",
        "using namespace std;\n",
        "\n",
        "const int N = 50000;\n",
        "const int Nngb = 64;\n",
        "const int Ndown = Nngb - 5;\n",
        "const int Nup = Nngb + 5;\n",
        "const float coeff = 0.001;\n",
        "\n",
        "__global__ void smoothing_h(float *x, float *y, float *z, float *hres, float *hprevious){\n",
        "  int i = threadIdx.x + blockIdx.x * blockDim.x;\n",
        "  \n",
        "  if(i < N){\n",
        "\n",
        "    float h_new = 2.1f * hprevious[i];\n",
        "    float h_tmp = h_new;\n",
        "    int N_iter = 0;\n",
        "    int k = 0;\n",
        "\n",
        "    float dx, dy, dz;\n",
        "    while((k < Ndown) || (k > Nup)){\n",
        "\n",
        "      k = 0;\n",
        "\n",
        "      for(int j = 0; j < N; j++){\n",
        "        dx = x[j] - x[i];\n",
        "        dy = y[j] - y[i];\n",
        "        dz = z[j] - z[i];\n",
        "        float rr = sqrt(dx*dx + dy*dy + dz*dz);\n",
        "\n",
        "        if(rr <= h_new){\n",
        "          k++;\n",
        "        }\n",
        "      }\n",
        "\n",
        "      if(k < Ndown){\n",
        "        h_new = h_new + coeff * 2.0f * hprevious[i];\n",
        "      }\n",
        "\n",
        "      if(k > Nup){\n",
        "        h_new = h_new - coeff * 2.0f * hprevious[i];\n",
        "      }\n",
        "\n",
        "      if(h_new > h_tmp){\n",
        "        h_tmp = h_new;\n",
        "      }\n",
        "\n",
        "      N_iter++;\n",
        "      if(N_iter > 100){\n",
        "        h_new = h_tmp;\n",
        "        break;\n",
        "      }\n",
        "    }\n",
        "    hres[i] = 0.5 * h_new;\n",
        "    }\n",
        "  }\n",
        "\n",
        "\n",
        "int main(){\n",
        "\n",
        "  // Reading the file containing x, y, z, and h.\n",
        "  ifstream infile(\"data.csv\");\n",
        "  float xt, yt, zt, ht;\n",
        "  \n",
        "  float **data = new float*[N];\n",
        "  for(int i = 0; i < N; i++){\n",
        "    data[i] = new float[4];\n",
        "  }\n",
        "\n",
        "  for(int i = 0; i < N; i++){\n",
        "    data[i][0] = 0.0f;\n",
        "    data[i][1] = 0.0f;\n",
        "    data[i][2] = 0.0f;\n",
        "    data[i][3] = 0.0f;\n",
        "  }\n",
        "\n",
        "  if(infile.is_open()){\n",
        "    for(int i = 0; i < N; i++){\n",
        "      infile >> xt >> yt >> zt >> ht;\n",
        "      data[i][0] = xt;\n",
        "      data[i][1] = yt;\n",
        "      data[i][2] = zt;\n",
        "      data[i][3] = ht;\n",
        "    }\n",
        "  }\n",
        "\n",
        "\n",
        "  // creating x, y, z arrays in Shared Memorty containing random values between 0 and 1.0\n",
        "  float *x, *y, *z;\n",
        "  cudaMallocManaged(&x, N * sizeof(float));\n",
        "  cudaMallocManaged(&y, N * sizeof(float));\n",
        "  cudaMallocManaged(&z, N * sizeof(float));\n",
        "\n",
        "  srand(time(NULL));\n",
        "\n",
        "  for(int i = 0; i < N; i++){\n",
        "    x[i] = data[i][0];\n",
        "    y[i] = data[i][1];\n",
        "    z[i] = data[i][2];\n",
        "  }\n",
        "\n",
        "  float *hres, *hprevious;\n",
        "  cudaMallocManaged(&hres, N * sizeof(float));\n",
        "  cudaMallocManaged(&hprevious, N * sizeof(float));\n",
        "\n",
        "  // Initialize hres on the Host\n",
        "  for(int i = 0; i < N; i++){\n",
        "    hres[i] = 10.1f; // 1000.0 is just a place holder!\n",
        "    hprevious[i] = data[i][3];\n",
        "  }\n",
        "\n",
        "  // Launching the kernel on GPU\n",
        "  int blockSize = 256; // number of threads in a block\n",
        "  int gridSize = (N + blockSize - 1) / blockSize; // Number of blocks in a grid\n",
        "\n",
        "  smoothing_h<<<gridSize, blockSize>>>(x, y, z, hres, hprevious);\n",
        "\n",
        "  // Wait for the GPU to finish before accessing the Host\n",
        "  cudaDeviceSynchronize();\n",
        "\n",
        "\n",
        "  // visual inspection\n",
        "  for(int i = 0; i < 10; i++){\n",
        "    //cout << data[i][0] << ' ' << data[i][1] << ' ' << data[i][2] << endl;\n",
        "    cout << hprevious[i] << \"  \" << hres[i] << endl;\n",
        "  }\n",
        "\n",
        "  // Output to a file\n",
        "  ofstream outfile(\"data_from_cpp.csv\");\n",
        "  if(outfile.is_open()){\n",
        "    for(int i = 0; i < N; i++){\n",
        "      outfile << x[i] << \",\" << y[i] << \",\" << z[i] << \",\" << hprevious[i] << \",\" << hres[i] << endl;\n",
        "    }\n",
        "  }else cout << \"Unable to open file !\";\n",
        "\n",
        "  // Free memory\n",
        "  cudaFree(x);\n",
        "  cudaFree(y);\n",
        "  cudaFree(z);\n",
        "  cudaFree(hres);\n",
        "  cudaFree(hprevious);\n",
        "\n",
        "  delete[] data;\n",
        "\n",
        "}"
      ]
    },
    {
      "cell_type": "code",
      "source": [
        "%%shell\n",
        "nvcc testx.cu -o testx"
      ],
      "metadata": {
        "colab": {
          "base_uri": "https://localhost:8080/"
        },
        "id": "ydSlKljHIOkK",
        "outputId": "8b2e2a1d-e6e5-40cf-b59a-08f8942480c5"
      },
      "execution_count": 285,
      "outputs": [
        {
          "output_type": "execute_result",
          "data": {
            "text/plain": []
          },
          "metadata": {},
          "execution_count": 285
        }
      ]
    },
    {
      "cell_type": "code",
      "source": [
        "%%shell\n",
        "./testx"
      ],
      "metadata": {
        "colab": {
          "base_uri": "https://localhost:8080/"
        },
        "id": "k7XyRYL0JgXZ",
        "outputId": "b5cb3a53-db8d-47df-e48d-700823004c1f"
      },
      "execution_count": 286,
      "outputs": [
        {
          "output_type": "stream",
          "name": "stdout",
          "text": [
            "0.0596094  0.0621726\n",
            "0.0269534  0.0269534\n",
            "0.0637682  0.0654261\n",
            "0.167706  0.175588\n",
            "0.0249028  0.0253261\n",
            "0.0186392  0.0188815\n",
            "0.0118953  0.0118953\n",
            "0.0225291  0.0225516\n",
            "0.0684425  0.0709065\n",
            "0.0210561  0.0210561\n"
          ]
        },
        {
          "output_type": "execute_result",
          "data": {
            "text/plain": []
          },
          "metadata": {},
          "execution_count": 286
        }
      ]
    },
    {
      "cell_type": "code",
      "source": [
        "%%shell\n",
        "nvprof ./testx"
      ],
      "metadata": {
        "colab": {
          "base_uri": "https://localhost:8080/"
        },
        "id": "-iHlyKNJWUtH",
        "outputId": "56b90eee-6779-4eb3-fcbc-c776e8cb158a"
      },
      "execution_count": 287,
      "outputs": [
        {
          "output_type": "stream",
          "name": "stdout",
          "text": [
            "==5881== NVPROF is profiling process 5881, command: ./testx\n",
            "0.0596094  0.0621726\n",
            "0.0269534  0.0269534\n",
            "0.0637682  0.0654261\n",
            "0.167706  0.175588\n",
            "0.0249028  0.0253261\n",
            "0.0186392  0.0188815\n",
            "0.0118953  0.0118953\n",
            "0.0225291  0.0225516\n",
            "0.0684425  0.0709065\n",
            "0.0210561  0.0210561\n",
            "==5881== Profiling application: ./testx\n",
            "==5881== Profiling result:\n",
            "            Type  Time(%)      Time     Calls       Avg       Min       Max  Name\n",
            " GPU activities:  100.00%  892.78ms         1  892.78ms  892.78ms  892.78ms  smoothing_h(float*, float*, float*, float*, float*)\n",
            "      API calls:   79.63%  892.80ms         1  892.80ms  892.80ms  892.80ms  cudaDeviceSynchronize\n",
            "                   20.30%  227.62ms         5  45.524ms  4.7370us  227.57ms  cudaMallocManaged\n",
            "                    0.03%  344.84us         1  344.84us  344.84us  344.84us  cuDeviceTotalMem\n",
            "                    0.02%  213.10us         5  42.619us  6.2910us  135.56us  cudaFree\n",
            "                    0.01%  158.97us       101  1.5730us     123ns  67.762us  cuDeviceGetAttribute\n",
            "                    0.00%  40.021us         1  40.021us  40.021us  40.021us  cudaLaunchKernel\n",
            "                    0.00%  29.344us         1  29.344us  29.344us  29.344us  cuDeviceGetName\n",
            "                    0.00%  6.1030us         1  6.1030us  6.1030us  6.1030us  cuDeviceGetPCIBusId\n",
            "                    0.00%  1.7850us         3     595ns     216ns  1.2260us  cuDeviceGetCount\n",
            "                    0.00%  1.6110us         2     805ns     354ns  1.2570us  cuDeviceGet\n",
            "                    0.00%     247ns         1     247ns     247ns     247ns  cuDeviceGetUuid\n",
            "\n",
            "==5881== Unified Memory profiling result:\n",
            "Device \"Tesla T4 (0)\"\n",
            "   Count  Avg Size  Min Size  Max Size  Total Size  Total Time  Name\n",
            "      17  60.234KB  4.0000KB  308.00KB  1.000000MB  135.0700us  Host To Device\n",
            "      25  40.960KB  4.0000KB  128.00KB  1.000000MB  107.1010us  Device To Host\n",
            "       3         -         -         -           -  831.6620us  Gpu page fault groups\n",
            "Total CPU Page faults: 15\n"
          ]
        },
        {
          "output_type": "execute_result",
          "data": {
            "text/plain": []
          },
          "metadata": {},
          "execution_count": 287
        }
      ]
    },
    {
      "cell_type": "code",
      "source": [
        "%%writefile testx.cu\n",
        "#include <iostream>\n",
        "#include <ctime>\n",
        "#include <fstream>\n",
        "using namespace std;\n",
        "\n",
        "const int N = 70000;\n",
        "const int Nngb = 64;\n",
        "const int Ndown = Nngb - 5;\n",
        "const int Nup = Nngb + 5;\n",
        "const float coeff = 0.001;\n",
        "\n",
        "__global__ void smoothing_h(float *x, float *y, float *z, float *hres, float *hprevious){\n",
        "\n",
        "  int i = threadIdx.x + blockIdx.x * blockDim.x;\n",
        "\n",
        "  if(i < N){\n",
        "\n",
        "    float h_new = 2.1f * hprevious[i]; // Change it to 2.0 in REAL App !!!!!!!!\n",
        "    float h_tmp = h_new;\n",
        "    int N_iter = 0;\n",
        "    int k = 0;\n",
        "\n",
        "    float dx, dy, dz;\n",
        "    while((k < Ndown) || (k > Nup)){\n",
        "\n",
        "      k = 0;\n",
        "\n",
        "      for(int j = 0; j < N; j++){\n",
        "        dx = x[j] - x[i];\n",
        "        dy = y[j] - y[i];\n",
        "        dz = z[j] - z[i];\n",
        "        float rr = sqrt(dx*dx + dy*dy + dz*dz);\n",
        "\n",
        "        if(rr <= h_new){\n",
        "          k++;\n",
        "        }\n",
        "      }\n",
        "\n",
        "      if(k < Ndown){\n",
        "        h_new = h_new + coeff * 2.0f * hprevious[i];\n",
        "      }\n",
        "\n",
        "      if(k > Nup){\n",
        "        h_new = h_new - coeff * 2.0f * hprevious[i];\n",
        "      }\n",
        "\n",
        "      if(h_new > h_tmp){\n",
        "        h_tmp = h_new;\n",
        "      }\n",
        "\n",
        "      N_iter++;\n",
        "      if(N_iter > 100){\n",
        "        h_new = h_tmp;\n",
        "        break;\n",
        "      }\n",
        "    }\n",
        "    hres[i] = 0.5 * h_new;\n",
        "    }\n",
        "  }\n",
        "\n",
        "\n",
        "int main(void){\n",
        "\n",
        "  // Reading the file containing x, y, z, and h.\n",
        "  ifstream infile(\"data.csv\");\n",
        "  float xt, yt, zt, ht;\n",
        "  \n",
        "  float **data = new float*[N];\n",
        "  for(int i = 0; i < N; i++){\n",
        "    data[i] = new float[4];\n",
        "  }\n",
        "\n",
        "  for(int i = 0; i < N; i++){\n",
        "    data[i][0] = 0.0f;\n",
        "    data[i][1] = 0.0f;\n",
        "    data[i][2] = 0.0f;\n",
        "    data[i][3] = 0.0f;\n",
        "  }\n",
        "\n",
        "  if(infile.is_open()){\n",
        "    for(int i = 0; i < N; i++){\n",
        "      infile >> xt >> yt >> zt >> ht;\n",
        "      data[i][0] = xt;\n",
        "      data[i][1] = yt;\n",
        "      data[i][2] = zt;\n",
        "      data[i][3] = ht;\n",
        "    }\n",
        "  }\n",
        "\n",
        "\n",
        "  // creating x, y, z arrays in Shared Memorty containing random values between 0 and 1.0\n",
        "  float *x, *d_x, *y, *d_y, *z, *d_z;\n",
        "  x = new float[N];\n",
        "  y = new float[N];\n",
        "  z = new float[N];\n",
        "\n",
        "  float *hres, *d_hres, *hprevious, *d_hprevious;\n",
        "  hres = new float[N];\n",
        "  hprevious = new float[N];\n",
        "\n",
        "  cudaMalloc(&d_x, N*sizeof(float));\n",
        "  cudaMalloc(&d_y, N*sizeof(float));\n",
        "  cudaMalloc(&d_z, N*sizeof(float));\n",
        "\n",
        "  cudaMalloc(&d_hres, N*sizeof(float));\n",
        "  cudaMalloc(&d_hprevious, N*sizeof(float));\n",
        "\n",
        "  // Initialize x, y, and z on the Host.\n",
        "  for(int i = 0; i < N; i++){\n",
        "    x[i] = data[i][0];\n",
        "    y[i] = data[i][1];\n",
        "    z[i] = data[i][2];\n",
        "  }\n",
        "\n",
        "  // Initialize hres and hprevious on the Host\n",
        "  for(int i = 0; i < N; i++){\n",
        "    hres[i] = 10.1f; // 100.0 is just a place holder!\n",
        "    hprevious[i] = data[i][3];\n",
        "  }\n",
        "\n",
        "  // Copy from Host to Device.\n",
        "  cudaMemcpy(d_x, x, N*sizeof(float), cudaMemcpyHostToDevice);\n",
        "  cudaMemcpy(d_y, y, N*sizeof(float), cudaMemcpyHostToDevice);\n",
        "  cudaMemcpy(d_z, z, N*sizeof(float), cudaMemcpyHostToDevice);\n",
        "\n",
        "  cudaMemcpy(d_hres, hres, N*sizeof(float), cudaMemcpyHostToDevice);\n",
        "  cudaMemcpy(d_hprevious, hprevious, N*sizeof(float), cudaMemcpyHostToDevice);\n",
        "\n",
        "\n",
        "  // Launching the kernel on GPU\n",
        "  int blockSize = 256; // number of threads in a block\n",
        "  int gridSize = (N + blockSize - 1) / blockSize; // Number of blocks in a grid\n",
        "\n",
        "  smoothing_h<<<gridSize, blockSize>>>(d_x, d_y, d_z, d_hres, d_hprevious);\n",
        "\n",
        "  // Wait for the GPU to finish before accessing the Host\n",
        "  cudaDeviceSynchronize();\n",
        "\n",
        "\n",
        "  // Output to a file\n",
        "  ofstream outfile(\"data_from_cpp.csv\");\n",
        "  if(outfile.is_open()){\n",
        "    for(int i = 0; i < N; i++){\n",
        "      outfile << x[i] << \",\" << y[i] << \",\" << z[i] << \",\" << hprevious[i] << \",\" << hres[i] << endl;\n",
        "    }\n",
        "  }else cout << \"Unable to open file !\";\n",
        "\n",
        "  cudaMemcpy(hres, d_hres, N*sizeof(float), cudaMemcpyDeviceToHost);\n",
        "\n",
        "  // visual inspection\n",
        "  for(int i = 0; i < 10; i++){\n",
        "    //cout << data[i][0] << ' ' << data[i][1] << ' ' << data[i][2] << endl;\n",
        "    cout << hprevious[i] << \"  \" << hres[i] << endl;\n",
        "  }\n",
        "\n",
        "  // Free memory\n",
        "  cudaFree(d_x);\n",
        "  cudaFree(d_y);\n",
        "  cudaFree(d_z);\n",
        "  cudaFree(d_hres);\n",
        "  cudaFree(d_hprevious);\n",
        "\n",
        "  delete[] data;\n",
        "  delete[] x;\n",
        "  delete[] y;\n",
        "  delete[] z;\n",
        "  delete[] hres;\n",
        "  delete[] hprevious;\n",
        "\n",
        "}"
      ],
      "metadata": {
        "colab": {
          "base_uri": "https://localhost:8080/"
        },
        "id": "RFR2B4sOFSQE",
        "outputId": "e2dcd768-7eec-4cfe-a8d2-2051e102de2c"
      },
      "execution_count": 347,
      "outputs": [
        {
          "output_type": "stream",
          "name": "stdout",
          "text": [
            "Overwriting testx.cu\n"
          ]
        }
      ]
    },
    {
      "cell_type": "code",
      "source": [
        "%%shell\n",
        "nvcc testx.cu -o testx"
      ],
      "metadata": {
        "colab": {
          "base_uri": "https://localhost:8080/"
        },
        "id": "90RbUoIDR-sa",
        "outputId": "b8647e98-89bc-4541-be14-c8bb8f163744"
      },
      "execution_count": 348,
      "outputs": [
        {
          "output_type": "execute_result",
          "data": {
            "text/plain": []
          },
          "metadata": {},
          "execution_count": 348
        }
      ]
    },
    {
      "cell_type": "code",
      "source": [
        "%%shell\n",
        "./testx"
      ],
      "metadata": {
        "colab": {
          "base_uri": "https://localhost:8080/"
        },
        "id": "IYaRtF7eSFZ4",
        "outputId": "8e92a241-83b6-4dd3-8b6c-1f4d079ea956"
      },
      "execution_count": 349,
      "outputs": [
        {
          "output_type": "stream",
          "name": "stdout",
          "text": [
            "0.0531791  0.0531791\n",
            "0.0632421  0.0632421\n",
            "0.0568285  0.0568285\n",
            "0.0792391  0.0792391\n",
            "0.0511843  0.0511843\n",
            "0.0617926  0.0617926\n",
            "0.0581889  0.0581889\n",
            "0.0575924  0.0575924\n",
            "0.0602205  0.0602205\n",
            "0.0623432  0.0623432\n"
          ]
        },
        {
          "output_type": "execute_result",
          "data": {
            "text/plain": []
          },
          "metadata": {},
          "execution_count": 349
        }
      ]
    },
    {
      "cell_type": "code",
      "source": [
        "%%shell\n",
        "nvprof ./testx"
      ],
      "metadata": {
        "colab": {
          "base_uri": "https://localhost:8080/"
        },
        "id": "OTqp516UToRh",
        "outputId": "fcc1ec28-2859-4553-face-165296acce66"
      },
      "execution_count": 350,
      "outputs": [
        {
          "output_type": "stream",
          "name": "stdout",
          "text": [
            "==7020== NVPROF is profiling process 7020, command: ./testx\n",
            "0.0531791  0.0531791\n",
            "0.0632421  0.0632421\n",
            "0.0568285  0.0568285\n",
            "0.0792391  0.0792391\n",
            "0.0511843  0.0511843\n",
            "0.0617926  0.0617926\n",
            "0.0581889  0.0581889\n",
            "0.0575924  0.0575924\n",
            "0.0602205  0.0602205\n",
            "0.0623432  0.0623432\n",
            "==7020== Profiling application: ./testx\n",
            "==7020== Profiling result:\n",
            "            Type  Time(%)      Time     Calls       Avg       Min       Max  Name\n",
            " GPU activities:   99.74%  59.057ms         1  59.057ms  59.057ms  59.057ms  smoothing_h(float*, float*, float*, float*, float*)\n",
            "                    0.22%  130.97us         5  26.194us  25.568us  26.815us  [CUDA memcpy HtoD]\n",
            "                    0.04%  23.584us         1  23.584us  23.584us  23.584us  [CUDA memcpy DtoH]\n",
            "      API calls:   81.22%  262.87ms         5  52.574ms  3.3460us  262.85ms  cudaMalloc\n",
            "                   18.25%  59.069ms         1  59.069ms  59.069ms  59.069ms  cudaDeviceSynchronize\n",
            "                    0.19%  611.77us         6  101.96us  91.478us  138.72us  cudaMemcpy\n",
            "                    0.17%  548.60us         1  548.60us  548.60us  548.60us  cuDeviceTotalMem\n",
            "                    0.07%  241.83us         5  48.366us  3.5430us  204.21us  cudaFree\n",
            "                    0.07%  214.15us       101  2.1200us     163ns  87.120us  cuDeviceGetAttribute\n",
            "                    0.01%  36.076us         1  36.076us  36.076us  36.076us  cuDeviceGetName\n",
            "                    0.01%  33.976us         1  33.976us  33.976us  33.976us  cudaLaunchKernel\n",
            "                    0.00%  5.9910us         1  5.9910us  5.9910us  5.9910us  cuDeviceGetPCIBusId\n",
            "                    0.00%  2.8800us         3     960ns     344ns  1.5340us  cuDeviceGetCount\n",
            "                    0.00%  1.5200us         2     760ns     330ns  1.1900us  cuDeviceGet\n",
            "                    0.00%     367ns         1     367ns     367ns     367ns  cuDeviceGetUuid\n"
          ]
        },
        {
          "output_type": "execute_result",
          "data": {
            "text/plain": []
          },
          "metadata": {},
          "execution_count": 350
        }
      ]
    },
    {
      "cell_type": "code",
      "source": [
        "%%shell\n",
        "nvidia-smi"
      ],
      "metadata": {
        "colab": {
          "base_uri": "https://localhost:8080/"
        },
        "id": "na_78TRlczB0",
        "outputId": "e66fa1e7-a14d-489e-ce26-5d3a97af9ee6"
      },
      "execution_count": 329,
      "outputs": [
        {
          "output_type": "stream",
          "name": "stdout",
          "text": [
            "Thu Nov 17 21:52:09 2022       \n",
            "+-----------------------------------------------------------------------------+\n",
            "| NVIDIA-SMI 460.32.03    Driver Version: 460.32.03    CUDA Version: 11.2     |\n",
            "|-------------------------------+----------------------+----------------------+\n",
            "| GPU  Name        Persistence-M| Bus-Id        Disp.A | Volatile Uncorr. ECC |\n",
            "| Fan  Temp  Perf  Pwr:Usage/Cap|         Memory-Usage | GPU-Util  Compute M. |\n",
            "|                               |                      |               MIG M. |\n",
            "|===============================+======================+======================|\n",
            "|   0  Tesla T4            Off  | 00000000:00:04.0 Off |                    0 |\n",
            "| N/A   34C    P8    14W /  70W |      0MiB / 15109MiB |      0%      Default |\n",
            "|                               |                      |                  N/A |\n",
            "+-------------------------------+----------------------+----------------------+\n",
            "                                                                               \n",
            "+-----------------------------------------------------------------------------+\n",
            "| Processes:                                                                  |\n",
            "|  GPU   GI   CI        PID   Type   Process name                  GPU Memory |\n",
            "|        ID   ID                                                   Usage      |\n",
            "|=============================================================================|\n",
            "|  No running processes found                                                 |\n",
            "+-----------------------------------------------------------------------------+\n"
          ]
        },
        {
          "output_type": "execute_result",
          "data": {
            "text/plain": []
          },
          "metadata": {},
          "execution_count": 329
        }
      ]
    },
    {
      "cell_type": "code",
      "source": [],
      "metadata": {
        "id": "qyOsoIdAk62v"
      },
      "execution_count": null,
      "outputs": []
    }
  ]
}