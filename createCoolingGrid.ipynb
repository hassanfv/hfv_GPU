{
  "nbformat": 4,
  "nbformat_minor": 0,
  "metadata": {
    "colab": {
      "provenance": [],
      "authorship_tag": "ABX9TyMhkMNM1z+Bq9uxqPdZfpk8",
      "include_colab_link": true
    },
    "kernelspec": {
      "name": "python3",
      "display_name": "Python 3"
    },
    "language_info": {
      "name": "python"
    },
    "accelerator": "GPU",
    "gpuClass": "standard"
  },
  "cells": [
    {
      "cell_type": "markdown",
      "metadata": {
        "id": "view-in-github",
        "colab_type": "text"
      },
      "source": [
        "<a href=\"https://colab.research.google.com/github/hassanfv/hfv_GPU/blob/main/createCoolingGrid.ipynb\" target=\"_parent\"><img src=\"https://colab.research.google.com/assets/colab-badge.svg\" alt=\"Open In Colab\"/></a>"
      ]
    },
    {
      "cell_type": "code",
      "execution_count": 47,
      "metadata": {
        "id": "Bbyq0LF_Txsz",
        "colab": {
          "base_uri": "https://localhost:8080/"
        },
        "outputId": "9afafec9-14e3-4510-d52f-9a3cb5d32e46"
      },
      "outputs": [
        {
          "output_type": "stream",
          "name": "stdout",
          "text": [
            "Overwriting createCoolingGrid.cu\n"
          ]
        }
      ],
      "source": [
        "%%writefile createCoolingGrid.cu\n",
        "\n",
        "#include <iostream>\n",
        "#include <cmath>\n",
        "#include <fstream>\n",
        "#include \"myPhotoLibsGPU.h\"\n",
        "\n",
        "using namespace std;\n",
        "\n",
        "\n",
        "__global__ void createCoolingGrid(float *rhoGrid, float *uGrid, float *res1,\n",
        "                                  float *res2, float *res3, float *res4,\n",
        "                                  float dt, float XH, int N_rho, int N_u)\n",
        "{\n",
        "  int i = threadIdx.x + blockIdx.x * blockDim.x;\n",
        "\n",
        "  if(i < N_rho)\n",
        "  {\n",
        "    float ux, delta_u;\n",
        "    int k = i * N_u;\n",
        "\n",
        "    for(int j = 0; j < N_u; j++)\n",
        "    {\n",
        "      ux = DoCooling(rhoGrid[i], uGrid[j], dt, XH);\n",
        "      delta_u = uGrid[j] - ux;\n",
        "\n",
        "      res1[k] = uGrid[j];\n",
        "      res2[k] = rhoGrid[i];\n",
        "      res3[k] = dt;\n",
        "      res4[k] = delta_u;\n",
        "\n",
        "      k++;\n",
        "    }\n",
        "  }\n",
        "}\n",
        "\n",
        "\n",
        "const float XH = 0.76;\n",
        "const float mH = 1.6726e-24; // gram\n",
        "const float dt  = 500.0f * 3600.0f * 24.0f * 365.24f; // 500 YEARS.\n",
        "\n",
        "const int N_rho = 10;\n",
        "const int N_u = 10;\n",
        "const int N = N_rho * N_u;\n",
        "\n",
        "int main(){\n",
        "\n",
        "  float Tmin = 1e4;\n",
        "  float Tmax = 1e6;\n",
        "\n",
        "  float stp_T = (log10(Tmax) - log10(Tmin)) / N_u;\n",
        "\n",
        "  float *Tgrid = new float[N_u];\n",
        "\n",
        "  for(int i = 0; i < N_u; i++)\n",
        "  {\n",
        "    Tgrid[i] = pow(10, (log10(Tmin) + i * stp_T));\n",
        "  }\n",
        "\n",
        "  //-------- Converting T to u.\n",
        "  /* This value is not very important. We just want to have a grid for u !! You could put nHcgs = 0.1, or 0.01, or ... !!! */\n",
        "  float nHcgs = 1.0; //  cm^-3\n",
        "\n",
        "  float *uGrid = new float[N_u];\n",
        "\n",
        "  for(int i = 0; i < N_u; i++)\n",
        "  {\n",
        "    uGrid[i] = convert_Temp_to_u(Tgrid[i], nHcgs, XH);\n",
        "  }\n",
        "\n",
        "  float *d_uGrid;\n",
        "  cudaMalloc(&d_uGrid, N*sizeof(float));\n",
        "  cudaMemcpy(d_uGrid, uGrid, N*sizeof(float), cudaMemcpyHostToDevice);\n",
        "  //-------- T to u conversion DONE !\n",
        "\n",
        "  float nH_min = 1e-4;\n",
        "  float nH_max = 1e3;\n",
        "  float rho_min = nH_min * mH;\n",
        "  float rho_max = nH_max * mH;\n",
        "\n",
        "  float stp_rho = (log10(rho_max) - log10(rho_min)) / N_rho;\n",
        "\n",
        "  float *rhoGrid = new float[N_rho];\n",
        "\n",
        "  for(int i = 0; i < N_rho; i++)\n",
        "  {\n",
        "    rhoGrid[i] = pow(10, (log10(rho_min) + i * stp_rho));\n",
        "  }\n",
        "\n",
        "  float *d_rhoGrid;\n",
        "  cudaMalloc(&d_rhoGrid, N*sizeof(float));\n",
        "  cudaMemcpy(d_rhoGrid, rhoGrid, N*sizeof(float), cudaMemcpyHostToDevice);\n",
        "\n",
        "  //---- Declaring the res arrays.\n",
        "  float *res1 = new float[N];\n",
        "  float *res2 = new float[N];\n",
        "  float *res3 = new float[N];\n",
        "  float *res4 = new float[N];\n",
        "\n",
        "  for(int i = 0; i < N; i ++)\n",
        "  {\n",
        "    res1[i] = 0.0f;\n",
        "    res2[i] = 0.0f;\n",
        "    res3[i] = 0.0f;\n",
        "    res4[i] = 0.0f;\n",
        "  }\n",
        "\n",
        "  float *d_res1, *d_res2, *d_res3, *d_res4; \n",
        "\n",
        "  cudaMalloc(&d_res1, N*sizeof(float));\n",
        "  cudaMalloc(&d_res2, N*sizeof(float));\n",
        "  cudaMalloc(&d_res3, N*sizeof(float));\n",
        "  cudaMalloc(&d_res4, N*sizeof(float));\n",
        "\n",
        "  cudaMemcpy(d_res1, res1, N*sizeof(float), cudaMemcpyHostToDevice);\n",
        "  cudaMemcpy(d_res1, res2, N*sizeof(float), cudaMemcpyHostToDevice);\n",
        "  cudaMemcpy(d_res1, res3, N*sizeof(float), cudaMemcpyHostToDevice);\n",
        "  cudaMemcpy(d_res1, res4, N*sizeof(float), cudaMemcpyHostToDevice);\n",
        "  // ---- End of res arrays declaration.\n",
        "\n",
        "  int blockSize = 256; // number of threads in a block\n",
        "  int gridSize = (N + blockSize - 1) / blockSize; // Number of blocks in a grid\n",
        "\n",
        "  createCoolingGrid<<<gridSize, blockSize>>>(d_rhoGrid, d_uGrid, d_res1,\n",
        "                                             d_res2, d_res3, d_res4, dt,\n",
        "                                             XH, N_rho, N_u);\n",
        "  cudaDeviceSynchronize();\n",
        "\n",
        "  cudaMemcpy(res1, d_res1, N*sizeof(float), cudaMemcpyDeviceToHost);\n",
        "  cudaMemcpy(res2, d_res2, N*sizeof(float), cudaMemcpyDeviceToHost);\n",
        "  cudaMemcpy(res3, d_res3, N*sizeof(float), cudaMemcpyDeviceToHost);\n",
        "  cudaMemcpy(res4, d_res4, N*sizeof(float), cudaMemcpyDeviceToHost);\n",
        "\n",
        "  /*\n",
        "  for(int i = 0; i < 10; i++)\n",
        "  {\n",
        "    cout << res1[i] << \", \" << res2[i] << \", \" << res3[i] << \", \" << res4[i] << endl;\n",
        "  }\n",
        "  */\n",
        "\n",
        "  ofstream outfile(\"CoolingGrid.csv\");\n",
        "\n",
        "  outfile << \"u\" << \",\" << \"rho\" << \",\" << \"dt\" << \",\" << \"delta_u\" << endl; //header !\n",
        "\n",
        "  for(int i = 0; i < N; i++){\n",
        "    outfile << res1[i] << \",\" << res2[i] << \",\" << res3[i] << \",\" << res4[i] << endl;\n",
        "  }\n",
        "\n",
        "\n",
        "  delete[] Tgrid;\n",
        "  delete[] uGrid;\n",
        "  delete[] rhoGrid;\n",
        "  delete[] res1;\n",
        "  delete[] res2;\n",
        "  delete[] res3;\n",
        "  delete[] res4;\n",
        "\n",
        "  cudaFree(d_uGrid); cudaFree(d_rhoGrid); cudaFree(d_res1);\n",
        "  cudaFree(d_res2); cudaFree(d_res3); cudaFree(d_res4);\n",
        "\n",
        "}"
      ]
    },
    {
      "cell_type": "code",
      "source": [
        "%%shell\n",
        "nvcc createCoolingGrid.cu"
      ],
      "metadata": {
        "colab": {
          "base_uri": "https://localhost:8080/"
        },
        "id": "_IppQBBGBw-F",
        "outputId": "42a0134f-ea93-4056-a61d-46a4cc0a0506"
      },
      "execution_count": 48,
      "outputs": [
        {
          "output_type": "execute_result",
          "data": {
            "text/plain": []
          },
          "metadata": {},
          "execution_count": 48
        }
      ]
    },
    {
      "cell_type": "code",
      "source": [
        "%%shell\n",
        "./a.out"
      ],
      "metadata": {
        "colab": {
          "base_uri": "https://localhost:8080/"
        },
        "id": "ZB82xhb1skyY",
        "outputId": "6b036eb0-780b-4c7f-cee5-84fda2a22e2e"
      },
      "execution_count": 49,
      "outputs": [
        {
          "output_type": "execute_result",
          "data": {
            "text/plain": []
          },
          "metadata": {},
          "execution_count": 49
        }
      ]
    },
    {
      "cell_type": "code",
      "source": [],
      "metadata": {
        "id": "FKRVhEB2CbPL"
      },
      "execution_count": null,
      "outputs": []
    }
  ]
}